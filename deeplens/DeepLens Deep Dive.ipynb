{
 "cells": [
  {
   "cell_type": "markdown",
   "metadata": {},
   "source": [
    "1. [Register Device](#register)\n",
    "\n",
    "1. [Interact with DeepLens](#interact)\n",
    "\n",
    "1. [DeepLens Project Structure](#structure)\n",
    "\n",
    "1. [Deploy an Open Source Project - Preparing](#opensource)\n",
    "\n",
    "1. [Deploy Social Distancing Model](#socialdist)\n",
    "\n",
    "1. [ONNX Support - Machine Learning Platform Agnostic](#onnx)"
   ]
  },
  {
   "cell_type": "markdown",
   "metadata": {},
   "source": [
    "<a id='register'></a>\n",
    "### Register Device "
   ]
  },
  {
   "cell_type": "markdown",
   "metadata": {},
   "source": [
    "#### DeepLens Console on AWS \n",
    "##### Press the \"Register Device\" button\n",
    "![Register Your Device](./images/reg/Reg1.png \"Prepare your device\")\n",
    "##### Select version based on the information printed on the stick attached to the machine. In this session, our machines are using v1.  \n",
    "![Register Your Device](./images/reg/Reg3.png \"Prepare your device\")\n",
    "##### name your machine, download and save the certificate for later use\n",
    "![Register Your Device](./images/reg/Reg4.png \"Prepare your device\")\n",
    "##### The wifi SID and password are on the white board. If you have to modify this setting afterwards, just plug the monitor and the key board to the machine and do necessary configuration \n",
    "![Register Your Device](./images/reg/Reg5.png \"Prepare your device\")\n",
    "##### Set up passwords and enable ssh of DeepLens. \n",
    "## DO NOT FORGET THE PASSWORD. OTHERWISE YOU HAVE TO RESET THE DEEPLENS TO THE FACTORY SETTING \n",
    "![Register Your Device](./images/reg/Reg6.png \"Prepare your device\")\n",
    "##### Update is necessary! \n",
    "![Register Your Device](./images/reg/Reg8.png \"Prepare your device\")\n"
   ]
  },
  {
   "cell_type": "markdown",
   "metadata": {},
   "source": [
    "<a id='interact'></a>\n",
    "### Interact with DeepLens "
   ]
  },
  {
   "cell_type": "markdown",
   "metadata": {},
   "source": [
    "#### Plug a Monitor and Keyboard. It's a Ubuntu 16.04  server\n",
    "![Interact with DeepLens](./images/interact/Interact1.jpg \"Prepare your device\")"
   ]
  },
  {
   "cell_type": "markdown",
   "metadata": {},
   "source": [
    "#### SSH \n",
    "![Interact with DeepLens](./images/interact/Interact2.png \"Prepare your device\")\n"
   ]
  },
  {
   "cell_type": "markdown",
   "metadata": {},
   "source": [
    "#### Deploy Existing Projects in 1X minutes\n",
    "\n",
    "##### There are a lot of example projects to deploy. Some of them are very interesting\n",
    "![Deploy Existing Project](./images/eproj/eProj1.png \"Prepare your device\")\n",
    "##### Here we can select `Object Detection` project to deploy. Note a project contains two components - a `Model` and `Function` \n",
    "![Deploy Existing Project](./images/eproj/eProj2.png \"Prepare your device\")\n",
    "##### Select the device to deploy \n",
    "![Deploy Existing Project](./images/eproj/eProj3.png \"Prepare your device\")"
   ]
  },
  {
   "cell_type": "markdown",
   "metadata": {},
   "source": [
    "<a id='structure'></a>\n",
    "### DeepLens Project Structure \n",
    "#### Project == Model + Function "
   ]
  },
  {
   "cell_type": "markdown",
   "metadata": {},
   "source": [
    "#### View Local Display "
   ]
  },
  {
   "cell_type": "markdown",
   "metadata": {},
   "source": [
    "* On your ssh client \n",
    "```ssh aws_cam@<deeplens-ip>```\n",
    "\n",
    "``` echo \"mplayer -demuxer lavf -lavfdopts format=mjpeg:probesize=32 /tmp/results.mjpeg\" > show.sh ```\n",
    "\n",
    "* Switch to the keyboard connected to DeepLens and open terminal \n",
    "```./show.sh```\n"
   ]
  },
  {
   "cell_type": "markdown",
   "metadata": {},
   "source": [
    "<a id='opensource'></a>\n",
    "\n",
    "### Deploy an Open Source Project - Preparing \n",
    "\n",
    "#### On our Local Mac \n",
    "\n",
    "##### See how your open source project works (virtualenv needed)\n",
    "\n",
    "* Download the source code \n",
    "\n",
    "`wget -O social-dist.zip https://tinyurl.com/yy8uw4cp`\n",
    "\n",
    "`unzip social-dist.zip`\n",
    "\n",
    "* Install necessary packages \n",
    "\n",
    "`cd social-distance-detector`\n",
    "\n",
    "`virtualenv -p python3 venv`\n",
    "\n",
    "`source venv/bin/activate`\n",
    "\n",
    "`pip install scipy imutils opencv-python`\n",
    "\n",
    "* Run \n",
    "\n",
    "`python social_distance_detector.py`\n",
    "\n",
    "or \n",
    "\n",
    "`python social_distance_detector.py -i pedestrians.mp4`\n",
    "\n",
    "\n",
    "#### Prepare Lambda Function \n",
    "##### SSH to DeepLens \n",
    "\n",
    "```ssh aws_cam@<deeplens-ip>```\n",
    "\n",
    "* Stop greengrass service. Otherwise the machine will be slow \n",
    "\n",
    "`sudo su`\n",
    "\n",
    "`cd /opt/awscam/greengrass/gcc/core`\n",
    "\n",
    "`greengrassd stop`\n",
    "\n",
    "* Get the greengrass Lambda code \n",
    "\n",
    "`exit`\n",
    "\n",
    "`cd ~/`\n",
    "\n",
    "`git clone https://github.com/catwhiskers/AWSLearningNotes.git`\n",
    "\n",
    "`cd AWSLearningNotes/dl-social-distancing-app/`\n",
    "\n",
    "##### How greengrass lambda running on DeepLens ? - They are running in indepent containers\n",
    "\n",
    "`./install.sh`\n",
    "\n",
    "`export LC_ALL=\"en_US.UTF-8\"`\n",
    "\n",
    "`export LC_CTYPE=\"en_US.UTF-8\"`\n",
    "\n",
    "`sudo dpkg-reconfigure locales`\n",
    "\n",
    "`zip -r dl-social-distancing-app.zip ./`\n",
    "\n",
    "\n"
   ]
  },
  {
   "cell_type": "markdown",
   "metadata": {},
   "source": [
    "<a id='socialdist'></a>\n",
    "### Deploy Social Distancing Model (on Cloud9)\n",
    "##### if data transport is too slow we can use this content and Cloud9! \n",
    "\n",
    "* Go to Cloud9 \n",
    "\n",
    "\n",
    "1. **create s3 bucket** \n",
    "\n",
    "`aws s3api create-bucket --bucket deeplens-trail-<your_id> --region <region> --create-bucket-configuration LocationConstraint=<region>`\n",
    "\n",
    "2. **Function** - dl-social-distancing-app.zip - `https://tinyurl.com/y5orhvmz`\n",
    "\n",
    "Download the code and upload it to the newly created s3 bucket\n",
    "\n",
    "`wget -O  dl-social-distancing-app.zip https://tinyurl.com/y5orhvmz`\n",
    "\n",
    "`aws s3 cp dl-social-distancing-app.zip s3://deeplens-trail-<yourid>/`\n",
    "\n",
    "3. **Model** - yolo-coco.tar.gz -`https://tinyurl.com/y5xcnplq`\n",
    "\n",
    "Download the model and assets required and upload it to the newly created s3 bucket\n",
    "\n",
    "`wget -O  yolo-coco.tar.gz https://tinyurl.com/y5xcnplq`\n",
    "\n",
    "`aws s3 cp yolo-coco.tar.gz s3://deeplens-trail-<yourid>/`"
   ]
  },
  {
   "cell_type": "markdown",
   "metadata": {},
   "source": [
    "#### Step by Step \n",
    "\n",
    "##### Deploy Lambda Function \n",
    "\n",
    "* Naming the function as SocialDistance-\\<yourid\\>, and set the runtime to python3.7\n",
    "\n",
    "![Deploy New Fucntion](./images/deploy/dep1.png \"Prepare your device\")\n",
    "![Deploy New Fucntion](./images/deploy/dep2.png \"Prepare your device\")\n",
    "* Pointing the code to the s3 file we just created `s3://deeplens-trail-<yourid>/dl-social-distancing-app.zip`\n",
    "![Deploy New Fucntion](./images/deploy/dep3.png \"Prepare your device\")\n",
    "* Remember to publish a new version! \n",
    "![Deploy New Fucntion](./images/deploy/dep4.png \"Prepare your device\")\n",
    "\n",
    "##### Deploy Model \n",
    "![Deploy New Model](./images/deploy/dep5.png \"Prepare your device\")\n",
    "* Select External Model. \n",
    "![Deploy New Model](./images/deploy/dep6.png \"Prepare your device\")\n",
    "* Naming it as yolov3-socialdistancing \n",
    "![Deploy New Model](./images/deploy/dep7.png \"Prepare your device\")\n",
    "\n",
    "##### Deploy Project \n",
    "![Deploy New Project](./images/deploy/dep8.png \"Prepare your device\")\n",
    "![Deploy New Project](./images/deploy/dep10.png \"Prepare your device\")\n",
    "![Deploy New Project](./images/deploy/dep12.png \"Prepare your device\")\n",
    "![Deploy New Project](./images/deploy/dep13.png \"Prepare your device\")\n",
    "\n",
    "\n",
    "\n",
    "\n",
    "\n",
    "\n"
   ]
  },
  {
   "cell_type": "markdown",
   "metadata": {},
   "source": [
    "<a id='onnx'></id>\n",
    "### ONNX Support - Machine Learning Platform Agnostic (on Cloud9)\n",
    "\n",
    "* Go to Cloud9 \n",
    "\n",
    "\n",
    "1. Function - dl_yolov5_onnx.zip - https://tinyurl.com/y4ypemjr\n",
    "\n",
    "`wget -O dl_yolov5_onnx.zip https://tinyurl.com/y4ypemjr`\n",
    "\n",
    "`aws s3 cp dl_yolov5_onnx.zip s3://deeplens-trail-<yourid>/`\n",
    "\n",
    "2. Model - yolov5.tar.gz - https://tinyurl.com/y4z5hv4y\n",
    "\n",
    "`wget -O yolov5.tar.gz https://tinyurl.com/y3hol3eu`\n",
    "\n",
    "`aws s3 cp yolov5.tar.gz s3://deeplens-trail-<yourid>/`\n"
   ]
  },
  {
   "cell_type": "markdown",
   "metadata": {},
   "source": [
    "### Troubleshooting \n",
    "```tail -f /opt/awscam/greengrass/ggc/var/log/user/us-east-1/<accountid>/<project>.log```\n",
    "![Troubleshooting](./images/ts/ts0.png \"Prepare your device\")\n",
    "Stop and start greengrass. Used when you want to have a quick try by updating your code locally and see it if works\n",
    "![Troubleshooting](./images/ts/ts1.png \"Prepare your device\")\n",
    "![Troubleshooting](./images/ts/ts2.png \"Prepare your device\")\n"
   ]
  },
  {
   "cell_type": "markdown",
   "metadata": {},
   "source": [
    "### Operation - Reset to Factory Setting"
   ]
  },
  {
   "cell_type": "markdown",
   "metadata": {},
   "source": [
    "1. Prepare the boot usb disk [Reference](https://docs.aws.amazon.com/zh_tw/deeplens/latest/dg/deeplens-device-factory-reset-preparation.html)\n",
    "2. Reset [Reference](https://docs.aws.amazon.com/zh_tw/deeplens/latest/dg/deeplens-device-factory-reset-instructions.html)"
   ]
  },
  {
   "cell_type": "markdown",
   "metadata": {},
   "source": [
    "### Example Project - Head Pose Project --> SageMaker to DeepLens! "
   ]
  },
  {
   "cell_type": "markdown",
   "metadata": {},
   "source": [
    "Ref: https://docs.aws.amazon.com/deeplens/latest/dg/deeplens-project-headpose-with-tensorflow-model.html"
   ]
  }
 ],
 "metadata": {
  "kernelspec": {
   "display_name": "Python 3",
   "language": "python",
   "name": "python3"
  },
  "language_info": {
   "codemirror_mode": {
    "name": "ipython",
    "version": 3
   },
   "file_extension": ".py",
   "mimetype": "text/x-python",
   "name": "python",
   "nbconvert_exporter": "python",
   "pygments_lexer": "ipython3",
   "version": "3.7.7"
  }
 },
 "nbformat": 4,
 "nbformat_minor": 4
}
